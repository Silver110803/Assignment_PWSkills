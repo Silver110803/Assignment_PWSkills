{
 "cells": [
  {
   "cell_type": "markdown",
   "id": "8caf1ba1-247c-4c45-a33e-f50b8c1407cb",
   "metadata": {},
   "source": [
    "Q1. How do you comment code in Python? What are the different types of comments?\n",
    "\n",
    "Single-line Comments: These are short comments that appear on a single line and provide quick explanations for a specific line of code.\n",
    "\n",
    "Multi-line Comments (Docstrings): Docstrings are used to provide more detailed explanations about functions, classes, or modules.\n",
    "They can span multiple lines and often include information about what something does, what arguments it takes, and what it returns.\n",
    "\n"
   ]
  },
  {
   "cell_type": "code",
   "execution_count": 2,
   "id": "cf7fc5d7-fd09-40b5-8ce7-1160e1500a48",
   "metadata": {},
   "outputs": [
    {
     "data": {
      "text/plain": [
       "'\\nThis function calculates the average of two numbers.\\n\\nParameters:\\n    num1 (float): The first number.\\n    num2 (float): The second number.\\n\\nReturns:\\n    float: The average of the two numbers.\\n'"
      ]
     },
     "execution_count": 2,
     "metadata": {},
     "output_type": "execute_result"
    }
   ],
   "source": [
    "# This is a single-line comment explaining the next line\n",
    "\"\"\"\n",
    "This function calculates the average of two numbers.\n",
    "\n",
    "Parameters:\n",
    "    num1 (float): The first number.\n",
    "    num2 (float): The second number.\n",
    "\n",
    "Returns:\n",
    "    float: The average of the two numbers.\n",
    "\"\"\""
   ]
  },
  {
   "cell_type": "markdown",
   "id": "ce72f0e8-c7bf-48cd-9db1-bf8bd62a1847",
   "metadata": {},
   "source": [
    "Q2. What are variables in Python? How do you declare and assign values to variables?\n",
    "\n",
    "Variables in Python are symbolic names that refer to data stored in memory. They act as placeholders for values, making it easier to manipulate and manage data in your program.\n",
    "\n",
    "To declare and assign values to variables, we use the assignment operator (`=`).\n",
    "\n",
    "variable_name = value"
   ]
  },
  {
   "cell_type": "code",
   "execution_count": null,
   "id": "2729b344-96c9-439b-8d7b-ae7217238d94",
   "metadata": {},
   "outputs": [],
   "source": [
    "name = \"Alice\"\n",
    "age = 30"
   ]
  },
  {
   "cell_type": "markdown",
   "id": "3b4ea4a2-63ea-48cd-b5c7-34a5efa4be5c",
   "metadata": {},
   "source": [
    "Q3. How do you convert one data type to another in Python?\n",
    "\n",
    "We can convert between different data types in Python using type-specific functions like `int()`, `float()`, `str()`, `list()`, `tuple()`, `dict()`, \n",
    "and so on.\n"
   ]
  },
  {
   "cell_type": "code",
   "execution_count": 3,
   "id": "98ea9a3e-b203-432b-8bb5-b10212774071",
   "metadata": {},
   "outputs": [],
   "source": [
    "# Converting to integer\n",
    "string_number = \"123\"\n",
    "integer_number = int(string_number)\n",
    "\n",
    "# Converting to string\n",
    "value = 42\n",
    "value_as_string = str(value)"
   ]
  },
  {
   "cell_type": "markdown",
   "id": "175d0186-84f3-4b9d-8b37-8ee02b390cac",
   "metadata": {},
   "source": [
    "Q4. How do you write and execute a Python script from the command line?\n",
    "\n",
    "1. Open a text editor and write your Python code.\n",
    "2. Save the file with a `.py` extension, like `my_script.py`.\n",
    "3. Open the command line/terminal.\n",
    "4. Navigate to the directory where the script is saved using the `cd` command.\n",
    "5. Run the script using the `python` command followed by the script's filename:\n",
    "Example: python my_script.py"
   ]
  },
  {
   "cell_type": "markdown",
   "id": "a0c3884e-3aa2-40ba-9074-c74fb79f011e",
   "metadata": {},
   "source": [
    "Q5. Given a list my_list = [1, 2, 3, 4, 5], write the code to slice the list and obtain the sub-list [2, 3]."
   ]
  },
  {
   "cell_type": "code",
   "execution_count": 4,
   "id": "a4683e26-1531-4152-a782-daaa2c276803",
   "metadata": {},
   "outputs": [
    {
     "name": "stdout",
     "output_type": "stream",
     "text": [
      "[2, 3]\n"
     ]
    }
   ],
   "source": [
    "my_list = [1, 2, 3, 4, 5]\n",
    "sub_list = my_list[1:3]\n",
    "print(sub_list)  # Output: [2, 3]"
   ]
  },
  {
   "cell_type": "markdown",
   "id": "53988d98-4ded-4d0c-a0f1-d45fa1a46bf6",
   "metadata": {},
   "source": [
    "Q6. What is a complex number in mathematics, and how is it represented in Python?\n",
    "\n",
    "In mathematics, a complex number is a number that comprises both a real part and an imaginary part. It is written in the form `a + bj`, where `a` is the real part, `b` is the coefficient of the imaginary unit `j` (square root of -1).\n",
    "\n",
    "In Python, complex numbers are represented using the `j` suffix."
   ]
  },
  {
   "cell_type": "code",
   "execution_count": null,
   "id": "7cb0ffc0-bb96-4f30-88ce-5faa42686cd1",
   "metadata": {},
   "outputs": [],
   "source": [
    "complex_number = 3 + 2j"
   ]
  },
  {
   "cell_type": "markdown",
   "id": "b078e712-6ef2-438c-8474-1f48d3711b3a",
   "metadata": {},
   "source": [
    "Q7. What is the correct way to declare a variable named age and assign the value 25 to it?"
   ]
  },
  {
   "cell_type": "code",
   "execution_count": null,
   "id": "d738d7c2-2a04-4efd-8057-c5237e677a22",
   "metadata": {},
   "outputs": [],
   "source": [
    "age = 25"
   ]
  },
  {
   "cell_type": "markdown",
   "id": "46a46397-eaa6-4782-846b-98bfa49b0642",
   "metadata": {},
   "source": [
    "Q8. Declare a variable named price and assign the value 9.99 to it. What data type does this variable belong to?"
   ]
  },
  {
   "cell_type": "code",
   "execution_count": null,
   "id": "74868a9a-1d22-478a-8929-4ffeb94c97d6",
   "metadata": {},
   "outputs": [],
   "source": [
    "price = 9.99\n",
    "#The variable `price` belongs to the floating-point number (float) data type."
   ]
  },
  {
   "cell_type": "markdown",
   "id": "bc98876f-6cb3-45f5-866a-322e7c336ab7",
   "metadata": {},
   "source": [
    "Q9. Create a variable named name and assign your full name to it as a string. How would you print the value of this variable?"
   ]
  },
  {
   "cell_type": "code",
   "execution_count": 5,
   "id": "941df173-034f-42af-b8e4-568825d57b1f",
   "metadata": {},
   "outputs": [
    {
     "name": "stdout",
     "output_type": "stream",
     "text": [
      "Soumyajit Manna\n"
     ]
    }
   ],
   "source": [
    "name = \"Soumyajit Manna\"\n",
    "print(name)"
   ]
  },
  {
   "cell_type": "markdown",
   "id": "7c6e25c3-c916-477a-a1e0-6c8805087d6e",
   "metadata": {},
   "source": [
    "Q10. Given the string \"Hello, World!\", extract the substring \"World\"."
   ]
  },
  {
   "cell_type": "code",
   "execution_count": 6,
   "id": "4ad56721-dec4-4506-aa6b-f5062d8a0995",
   "metadata": {},
   "outputs": [
    {
     "name": "stdout",
     "output_type": "stream",
     "text": [
      "World\n"
     ]
    }
   ],
   "source": [
    "text = \"Hello, World!\"\n",
    "substring = text[7:12]\n",
    "print(substring)  # Output: \"World\""
   ]
  },
  {
   "cell_type": "markdown",
   "id": "a0092377-88f1-40b8-80aa-8ddc3248ee3b",
   "metadata": {},
   "source": [
    "Q11. Create a variable named \"is_student\" and assign it a boolean value indicating whether you are currently a student or not."
   ]
  },
  {
   "cell_type": "code",
   "execution_count": null,
   "id": "f6e67ea3-1120-461f-a2b9-913a2d44ab44",
   "metadata": {},
   "outputs": [],
   "source": [
    "is_student = True  # or False, depending on your status"
   ]
  }
 ],
 "metadata": {
  "kernelspec": {
   "display_name": "Python 3 (ipykernel)",
   "language": "python",
   "name": "python3"
  },
  "language_info": {
   "codemirror_mode": {
    "name": "ipython",
    "version": 3
   },
   "file_extension": ".py",
   "mimetype": "text/x-python",
   "name": "python",
   "nbconvert_exporter": "python",
   "pygments_lexer": "ipython3",
   "version": "3.10.8"
  }
 },
 "nbformat": 4,
 "nbformat_minor": 5
}
