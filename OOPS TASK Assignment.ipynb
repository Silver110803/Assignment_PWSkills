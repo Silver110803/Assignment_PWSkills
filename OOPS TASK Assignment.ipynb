{
 "cells": [
  {
   "cell_type": "markdown",
   "id": "5384a0c1-4564-431b-98a0-9b1e916bc1e2",
   "metadata": {},
   "source": [
    "Q1. Create a vehicle class with an init method having instance variables as name_of_vehicle, max_speed\n",
    "and average_of_vehicle.\n"
   ]
  },
  {
   "cell_type": "code",
   "execution_count": 4,
   "id": "5af2acf2-a1ad-486a-8734-283bf1ad1f1f",
   "metadata": {},
   "outputs": [
    {
     "name": "stdout",
     "output_type": "stream",
     "text": [
      "Car has a max speed of 200 km/h\n",
      "Bike has an average speed of 60 km/h\n"
     ]
    }
   ],
   "source": [
    "class vehicle :\n",
    "    def __init__(self, name_of_vehicle, max_speed, average_of_vehicle):\n",
    "        self.name_of_vehicle = name_of_vehicle\n",
    "        self.max_speed = max_speed\n",
    "        self.average_of_vehicle = average_of_vehicle\n",
    "#creating instances of the vehicle class\n",
    "car = vehicle(\"Car\", 200, 80)\n",
    "bike = vehicle(\"Bike\", 180, 60)\n",
    "print(f\"{car.name_of_vehicle} has a max speed of {car.max_speed} km/h\")\n",
    "print(f\"{bike.name_of_vehicle} has an average speed of {bike.average_of_vehicle} km/h\")"
   ]
  },
  {
   "cell_type": "markdown",
   "id": "01bf9278-0dbe-4b45-983e-ad79a3169a0e",
   "metadata": {},
   "source": [
    "Q2. Create a child class car from the vehicle class created in Que 1, which will inherit the vehicle class.\n",
    "Create a method named seating_capacity which takes capacity as an argument and returns the name of\n",
    "the vehicle and its seating capacity.\n"
   ]
  },
  {
   "cell_type": "code",
   "execution_count": 6,
   "id": "4569ac0c-1ebf-4afe-99ee-57f3bcd90bb3",
   "metadata": {},
   "outputs": [
    {
     "name": "stdout",
     "output_type": "stream",
     "text": [
      "Sedan has a max speed of 180 km/h\n",
      "Sedan has a capacity of 5 passengers\n",
      "SUV has a capacity of 6 passengers\n"
     ]
    }
   ],
   "source": [
    "class car(vehicle) :\n",
    "    def seating_capacity(self, capacity):\n",
    "        return f\"{self.name_of_vehicle} has a capacity of {capacity} passengers\" \n",
    "car1 = car(\"Sedan\", 180, 60 )\n",
    "car2 = car(\"SUV\", 150, 50)\n",
    "print(f\"{car1.name_of_vehicle} has a max speed of {car1.max_speed} km/h\")\n",
    "print(car1.seating_capacity(5))\n",
    "print(car2.seating_capacity(6))"
   ]
  },
  {
   "cell_type": "markdown",
   "id": "bc6fe798-9bdd-4871-850f-8dcb1cfcc38e",
   "metadata": {},
   "source": [
    "Q3. What is multiple inheritance? Write a python code to demonstrate multiple inheritance.\n"
   ]
  },
  {
   "cell_type": "markdown",
   "id": "5767ff6e-6f10-47f8-a62a-c02c26941358",
   "metadata": {},
   "source": [
    "Multiple inheritance is a feature in object-oriented programming languages that allows a class to inherit attributes and methods from more than one parent class. \n",
    "In multiple inheritance, a class can inherit behaviors from multiple classes"
   ]
  },
  {
   "cell_type": "code",
   "execution_count": 7,
   "id": "c24f1c4a-56c6-437c-a6e1-de81131c732e",
   "metadata": {},
   "outputs": [
    {
     "name": "stdout",
     "output_type": "stream",
     "text": [
      "Method from Parent1\n",
      "Method from Parent2\n",
      "Method from Child\n"
     ]
    }
   ],
   "source": [
    "class Parent1:\n",
    "    def method1(self):\n",
    "        print(\"Method from Parent1\")\n",
    "\n",
    "class Parent2:\n",
    "    def method2(self):\n",
    "        print(\"Method from Parent2\")\n",
    "\n",
    "class Child(Parent1, Parent2):\n",
    "    def method3(self):\n",
    "        print(\"Method from Child\")\n",
    "\n",
    "# Creating an instance of the Child class\n",
    "child_instance = Child()\n",
    "\n",
    "# Calling methods from Parent1, Parent2, and Child\n",
    "child_instance.method1()\n",
    "child_instance.method2()\n",
    "child_instance.method3()"
   ]
  },
  {
   "cell_type": "markdown",
   "id": "e5ec4971-3414-4569-8b08-6254f79cbc97",
   "metadata": {},
   "source": [
    "Q4. What are getter and setter in python? Create a class and create a getter and a setter method in this\n",
    "class.\n"
   ]
  },
  {
   "cell_type": "markdown",
   "id": "24c7e790-c22f-410f-a23d-53a0b9e86856",
   "metadata": {},
   "source": [
    "In Python, getter and setter methods are used to control the access and modification of attributes of a class. \n",
    "They are used to encapsulate data and provide controlled access to it, allowing you to enforce validation, \n",
    "formatting, or other logic before getting or setting the value of an attribute.\n",
    "\n",
    "Getter Method: A getter method is used to retrieve the value of an attribute. \n",
    "It provides read-only access to the attribute and can include additional logic before returning the value.\n",
    "\n",
    "Setter Method: A setter method is used to set the value of an attribute. \n",
    "It provides controlled write access to the attribute and can include validation or formatting logic before setting the value."
   ]
  },
  {
   "cell_type": "code",
   "execution_count": 9,
   "id": "18ad84c2-b552-43ae-9caf-d536825ff704",
   "metadata": {},
   "outputs": [
    {
     "name": "stdout",
     "output_type": "stream",
     "text": [
      "Name: Harry\n",
      "Age: 20\n",
      "Name: Sinchan\n",
      "Age: 25\n"
     ]
    }
   ],
   "source": [
    "class Student:\n",
    "    def __init__(self, name, age):\n",
    "        self._name = name\n",
    "        self._age = age\n",
    "\n",
    "    # Getter method for 'name'\n",
    "    def get_name(self):\n",
    "        return self._name\n",
    "\n",
    "    # Setter method for 'name'\n",
    "    def set_name(self, name):\n",
    "        if isinstance(name, str):\n",
    "            self._name = name\n",
    "        else:\n",
    "            print(\"Name must be a string.\")\n",
    "\n",
    "    # Getter method for 'age'\n",
    "    def get_age(self):\n",
    "        return self._age\n",
    "\n",
    "    # Setter method for 'age'\n",
    "    def set_age(self, age):\n",
    "        if age >= 0:\n",
    "            self._age = age\n",
    "        else:\n",
    "            print(\"Age must be a non-negative value.\")\n",
    "\n",
    "# Creating an instance of the Student class\n",
    "student = Student(\"Harry\", 20)\n",
    "\n",
    "# Using getter to retrieve values\n",
    "print(\"Name:\", student.get_name())\n",
    "print(\"Age:\", student.get_age())\n",
    "\n",
    "# Using setter to change values\n",
    "student.set_name(\"Sinchan\")\n",
    "student.set_age(25)\n",
    "\n",
    "# Using getter again to verify changes\n",
    "print(\"Name:\", student.get_name())\n",
    "print(\"Age:\", student.get_age())"
   ]
  },
  {
   "cell_type": "markdown",
   "id": "3a075a35-51d4-4bba-ab33-7a978281a4da",
   "metadata": {},
   "source": [
    "Q5.What is method overriding in python? Write a python code to demonstrate method overriding."
   ]
  },
  {
   "cell_type": "markdown",
   "id": "05076942-1e6f-4997-ba6d-151e1e1dbdcb",
   "metadata": {},
   "source": [
    "Method overriding is a concept in object-oriented programming where a subclass provides a specific implementation for a method that is already defined in its superclass. \n",
    "When a subclass defines a method with the same name, parameters, and return type as a method in its superclass, it is said to be overriding the method. \n",
    "The overridden method in the subclass is called instead of the method in the superclass when an instance of the subclass calls that method."
   ]
  },
  {
   "cell_type": "code",
   "execution_count": 10,
   "id": "f7860ff8-61e4-4459-b248-486025ff683b",
   "metadata": {},
   "outputs": [
    {
     "name": "stdout",
     "output_type": "stream",
     "text": [
      "Area of square: 25\n",
      "Area of circle: 153.93791\n"
     ]
    }
   ],
   "source": [
    "class Shape:\n",
    "    def area(self):\n",
    "        return 0\n",
    "\n",
    "class Square(Shape):\n",
    "    def __init__(self, side):\n",
    "        self.side = side\n",
    "\n",
    "    # Method overriding\n",
    "    def area(self):\n",
    "        return self.side * self.side\n",
    "\n",
    "class Circle(Shape):\n",
    "    def __init__(self, radius):\n",
    "        self.radius = radius\n",
    "\n",
    "    # Method overriding\n",
    "    def area(self):\n",
    "        return 3.14159 * self.radius * self.radius\n",
    "\n",
    "# Creating instances of subclasses\n",
    "square = Square(5)\n",
    "circle = Circle(7)\n",
    "\n",
    "# Calling overridden methods\n",
    "print(\"Area of square:\", square.area())\n",
    "print(\"Area of circle:\", circle.area())"
   ]
  }
 ],
 "metadata": {
  "kernelspec": {
   "display_name": "Python 3 (ipykernel)",
   "language": "python",
   "name": "python3"
  },
  "language_info": {
   "codemirror_mode": {
    "name": "ipython",
    "version": 3
   },
   "file_extension": ".py",
   "mimetype": "text/x-python",
   "name": "python",
   "nbconvert_exporter": "python",
   "pygments_lexer": "ipython3",
   "version": "3.10.8"
  }
 },
 "nbformat": 4,
 "nbformat_minor": 5
}
