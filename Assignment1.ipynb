{
 "cells": [
  {
   "cell_type": "code",
   "execution_count": 2,
   "id": "a14dabe1-3512-4ea9-a903-f3bf0f6bf5e0",
   "metadata": {},
   "outputs": [
    {
     "name": "stdout",
     "output_type": "stream",
     "text": [
      "<class 'str'>\n",
      "<class 'list'>\n",
      "<class 'float'>\n",
      "<class 'tuple'>\n"
     ]
    }
   ],
   "source": [
    "#1\n",
    "#(i)\n",
    "s_tring = \"PWSKILLS\"\n",
    "l_ist = [1,2,3,\"Python\",[4,5,6],7]\n",
    "f_loat = 20.986\n",
    "t_uple = (1,3,4,5,6)\n",
    "print(type(s_tring))\n",
    "print(type(l_ist))\n",
    "print(type(f_loat))\n",
    "print(type(t_uple))"
   ]
  },
  {
   "cell_type": "code",
   "execution_count": 6,
   "id": "e55afc41-f024-4082-8a50-0957f240ff57",
   "metadata": {},
   "outputs": [
    {
     "name": "stdout",
     "output_type": "stream",
     "text": [
      "<class 'str'>\n",
      "<class 'str'>\n",
      "<class 'list'>\n",
      "<class 'float'>\n"
     ]
    }
   ],
   "source": [
    "#2\n",
    "var1 =  ' '                              #string\n",
    "var2 = '[ DS , ML , Python]'             #string\n",
    "var3 = [ 'DS' , 'ML' , 'Python' ]        #list\n",
    "var4 = 1.                                #float\n",
    "print(type(var1))\n",
    "print(type(var2))\n",
    "print(type(var3))\n",
    "print(type(var4))"
   ]
  },
  {
   "cell_type": "code",
   "execution_count": 7,
   "id": "0f3d74ff-124c-4553-9566-6a65f37d1919",
   "metadata": {},
   "outputs": [
    {
     "name": "stdout",
     "output_type": "stream",
     "text": [
      "3.3333333333333335\n",
      "1\n",
      "3\n",
      "8\n"
     ]
    }
   ],
   "source": [
    "#3\n",
    "#(i) \"/\" is used for division of two numbers \n",
    "a = 10\n",
    "b = 3\n",
    "result = a / b\n",
    "print(result)\n",
    "#(ii) \"%\" is used for getting the remainder as output\n",
    "a = 10\n",
    "b = 3\n",
    "remainder = a % b\n",
    "print(remainder)\n",
    "#(iii) \"//\" is used for floor division\n",
    "a = 10\n",
    "b = 3\n",
    "result = a // b\n",
    "print(result)\n",
    "#(iv)base raised to the power of exponent gives 2^3, which is equals to 8\n",
    "base = 2\n",
    "exponent = 3\n",
    "result = base ** exponent\n",
    "print(result)"
   ]
  },
  {
   "cell_type": "code",
   "execution_count": 11,
   "id": "499486b4-166c-4fe6-994f-5cbddcd9e414",
   "metadata": {},
   "outputs": [
    {
     "name": "stdout",
     "output_type": "stream",
     "text": [
      "Element: 10, Data Type: <class 'int'>\n",
      "Element: DataScience, Data Type: <class 'str'>\n",
      "Element: 3.14159, Data Type: <class 'float'>\n",
      "Element: True, Data Type: <class 'bool'>\n",
      "Element: [1, 2, 3], Data Type: <class 'list'>\n",
      "Element: {'key': 'value'}, Data Type: <class 'dict'>\n",
      "Element: None, Data Type: <class 'NoneType'>\n",
      "Element: (1, 2), Data Type: <class 'tuple'>\n",
      "Element: False, Data Type: <class 'bool'>\n",
      "Element: Python, Data Type: <class 'str'>\n"
     ]
    }
   ],
   "source": [
    "#4\n",
    "my_list = [10, \"DataScience\", 3.14159, True, [1, 2, 3], {'key': 'value'}, None, (1, 2), False, \"Python\"]\n",
    "\n",
    "for item in my_list:\n",
    "    print(f\"Element: {item}, Data Type: {type(item)}\")"
   ]
  },
  {
   "cell_type": "code",
   "execution_count": 12,
   "id": "992815b2-94be-4543-a124-d54357b68680",
   "metadata": {},
   "outputs": [
    {
     "name": "stdin",
     "output_type": "stream",
     "text": [
      "Enter number A:  100\n",
      "Enter number B:  5\n"
     ]
    },
    {
     "name": "stdout",
     "output_type": "stream",
     "text": [
      "4 is divisible by 5 a total of 2 times.\n"
     ]
    }
   ],
   "source": [
    "#5\n",
    "# Input numbers A and B\n",
    "A = int(input(\"Enter number A: \"))\n",
    "B = int(input(\"Enter number B: \"))\n",
    "\n",
    "# Initialize a counter to keep track of divisions\n",
    "divisions = 0\n",
    "\n",
    "# Verify if A is divisible by B and count divisions\n",
    "while A % B == 0:\n",
    "    A = A // B  # Divide A by B\n",
    "    divisions += 1\n",
    "\n",
    "if divisions > 0:\n",
    "    print(f\"{A} is divisible by {B} a total of {divisions} times.\")\n",
    "else:\n",
    "    print(f\"{A} is not divisible by {B}.\")"
   ]
  },
  {
   "cell_type": "code",
   "execution_count": 13,
   "id": "0e2b29b7-7466-42fa-aaa6-de91d38eaa77",
   "metadata": {},
   "outputs": [
    {
     "name": "stdout",
     "output_type": "stream",
     "text": [
      "12 is divisible by 3.\n",
      "7 is not divisible by 3.\n",
      "9 is divisible by 3.\n",
      "15 is divisible by 3.\n",
      "22 is not divisible by 3.\n",
      "30 is divisible by 3.\n",
      "8 is not divisible by 3.\n",
      "18 is divisible by 3.\n",
      "27 is divisible by 3.\n",
      "14 is not divisible by 3.\n",
      "6 is divisible by 3.\n",
      "21 is divisible by 3.\n",
      "33 is divisible by 3.\n",
      "10 is not divisible by 3.\n",
      "5 is not divisible by 3.\n",
      "24 is divisible by 3.\n",
      "16 is not divisible by 3.\n",
      "11 is not divisible by 3.\n",
      "39 is divisible by 3.\n",
      "42 is divisible by 3.\n",
      "17 is not divisible by 3.\n",
      "29 is not divisible by 3.\n",
      "36 is divisible by 3.\n",
      "20 is not divisible by 3.\n",
      "25 is not divisible by 3.\n"
     ]
    }
   ],
   "source": [
    "#6\n",
    "# Create a list of 25 integers\n",
    "int_list = [12, 7, 9, 15, 22, 30, 8, 18, 27, 14, 6, 21, 33, 10, 5, 24, 16, 11, 39, 42, 17, 29, 36, 20, 25]\n",
    "\n",
    "# Iterate through the list using a for loop\n",
    "for num in int_list:\n",
    "    if num % 3 == 0:\n",
    "        print(f\"{num} is divisible by 3.\")\n",
    "    else:\n",
    "        print(f\"{num} is not divisible by 3.\")\n"
   ]
  },
  {
   "cell_type": "code",
   "execution_count": 14,
   "id": "26aeb014-7132-4df4-9f71-9fa25777eeec",
   "metadata": {},
   "outputs": [
    {
     "name": "stdout",
     "output_type": "stream",
     "text": [
      "Hello\n",
      "[1, 2, 3, 4]\n"
     ]
    }
   ],
   "source": [
    "#7\n",
    "'''Immutable Data Types: Immutable data types are those whose values cannot be modified after they are created. \n",
    "When you perform operations on immutable objects, you actually create new objects with the modified values, \n",
    "leaving the original object unchanged.'''\n",
    "\n",
    "#Examples of immutable data types:\n",
    "s = \"Hello\"\n",
    "t = s  # t now holds the value of s\n",
    "s = \"Hi\"  # s is reassigned to a new value, but t remains \"Hello\"\n",
    "print(t)  # Output: \"Hello\"\n",
    "\n",
    "'''Mutable Data Types: Mutable data types are those whose values can be modified after they are created. \n",
    "This means you can change the contents of the object without creating a new object.'''\n",
    "\n",
    "#Examples of mutable data types:\n",
    "list1 = [1, 2, 3]\n",
    "list2 = list1  # list2 now refers to the same list as list1\n",
    "list1.append(4)  # Modifying list1 also modifies list2\n",
    "print(list2)  # Output: [1, 2, 3, 4]"
   ]
  },
  {
   "cell_type": "code",
   "execution_count": null,
   "id": "a8bd56b0-26d7-4e9d-9107-c3c5dc66cdc8",
   "metadata": {},
   "outputs": [],
   "source": []
  }
 ],
 "metadata": {
  "kernelspec": {
   "display_name": "Python 3 (ipykernel)",
   "language": "python",
   "name": "python3"
  },
  "language_info": {
   "codemirror_mode": {
    "name": "ipython",
    "version": 3
   },
   "file_extension": ".py",
   "mimetype": "text/x-python",
   "name": "python",
   "nbconvert_exporter": "python",
   "pygments_lexer": "ipython3",
   "version": "3.10.8"
  }
 },
 "nbformat": 4,
 "nbformat_minor": 5
}
