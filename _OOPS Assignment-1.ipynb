{
 "cells": [
  {
   "cell_type": "markdown",
   "id": "97bfbac5-7bf1-4812-8aef-264046bb5eb0",
   "metadata": {},
   "source": [
    "Q1. Explain Class and Object with respect to Object-Oriented Programming. Give a suitable example."
   ]
  },
  {
   "cell_type": "markdown",
   "id": "615e52a8-aabf-446a-b56c-a54a9192857d",
   "metadata": {},
   "source": [
    "In Object-Oriented Programming (OOP), a class is a blueprint or a template for creating objects. \n",
    "It defines a set of attributes (variables) and methods (functions) that the objects created from the class will have. \n",
    "An object, on the other hand, is an instance of a class. \n",
    "It represents a real-world entity or concept and can store data (attributes) and perform actions (methods) based on the class's definition."
   ]
  },
  {
   "cell_type": "code",
   "execution_count": 6,
   "id": "ea6d0c75-cbab-44a3-8b07-2efe7c13fde9",
   "metadata": {},
   "outputs": [
    {
     "name": "stdout",
     "output_type": "stream",
     "text": [
      "Toyota\n",
      "Engine started\n"
     ]
    }
   ],
   "source": [
    "class Car:\n",
    "    def __init__(self, make, model):\n",
    "        self.make = make\n",
    "        self.model = model\n",
    "\n",
    "    def start_engine(self):\n",
    "        print(\"Engine started\")\n",
    "\n",
    "# Creating objects from the class\n",
    "car1 = Car(\"Toyota\", \"Corolla\")\n",
    "car2 = Car(\"Ford\", \"Mustang\")\n",
    "\n",
    "# Accessing object attributes\n",
    "print(car1.make)  # Output: Toyota\n",
    "\n",
    "# Calling object methods\n",
    "car2.start_engine()  # Output: Engine started"
   ]
  },
  {
   "cell_type": "markdown",
   "id": "ccb3f3f6-1a1e-4e54-b84e-4c09b8ef2511",
   "metadata": {},
   "source": [
    "Q2. Name the four pillars of OOPs."
   ]
  },
  {
   "cell_type": "markdown",
   "id": "77be1edf-be2c-47e2-af79-e229c5f1e224",
   "metadata": {},
   "source": [
    "1. **Encapsulation:** Bundling data (attributes) and methods (functions) that operate on the data into a single unit (class), and restricting direct access to some of the object's components.\n",
    "2. **Abstraction:** Hiding complex implementation details and showing only the necessary features of an object.\n",
    "3. **Inheritance:** Allowing a class (subclass or derived class) to inherit attributes and methods from another class (base class or parent class).\n",
    "4. **Polymorphism:** The ability of different classes to be treated as instances of the same class through a common interface. It allows objects of different classes to be used interchangeably.\n"
   ]
  },
  {
   "cell_type": "markdown",
   "id": "a6ae5880-6195-45b6-83c1-e69ef4fbbdc5",
   "metadata": {},
   "source": [
    "Q3. Explain why the __init__() function is used. Give a suitable example."
   ]
  },
  {
   "cell_type": "markdown",
   "id": "c37f2c64-0cbb-480a-8b55-bf4a84edf84e",
   "metadata": {},
   "source": [
    "\n",
    "The `__init__()` function is a special method in a class used to initialize the attributes of an object when it is created. \n",
    "It's called a constructor, as it constructs or sets up the initial state of the object. \n",
    "This method is automatically called when you create an object from the class.\n",
    "\n"
   ]
  },
  {
   "cell_type": "code",
   "execution_count": 7,
   "id": "de1563fd-68ce-40d8-9f79-28414b6f86d9",
   "metadata": {},
   "outputs": [],
   "source": [
    "class Car:\n",
    "    def __init__(self, make, model):\n",
    "        self.make = make\n",
    "        self.model = model\n",
    "\n",
    "car1 = Car(\"Toyota\", \"Corolla\")"
   ]
  },
  {
   "cell_type": "markdown",
   "id": "5faae5c5-bc39-4ac7-88b8-8dd310044003",
   "metadata": {},
   "source": [
    "Q4. Why self is used in OOPs?"
   ]
  },
  {
   "cell_type": "markdown",
   "id": "800388f3-aaf0-4377-a1eb-c6ec302e83e1",
   "metadata": {},
   "source": [
    "In OOP, `self` refers to the instance of the class itself. \n",
    "It is used to access the attributes and methods of the object within the class methods. \n",
    "By using `self`, you can distinguish between instance variables (belonging to the object) and local variables (used within a method)."
   ]
  },
  {
   "cell_type": "markdown",
   "id": "1d99add5-aeb0-408c-9176-8279aa2cda27",
   "metadata": {},
   "source": [
    "Q5. What is inheritance? Give an example for each type of inheritance."
   ]
  },
  {
   "cell_type": "markdown",
   "id": "8a9c35bb-5b95-4344-8e7a-ea3a37eca93d",
   "metadata": {},
   "source": [
    "Inheritance is a fundamental concept in OOP where a new class (subclass or derived class) can inherit attributes and methods from an existing class (base class or parent class). \n",
    "This allows you to create a hierarchy of classes with shared behaviors and properties."
   ]
  },
  {
   "cell_type": "code",
   "execution_count": 11,
   "id": "28d012d6-98f3-4b23-b1c7-e76ef44eec47",
   "metadata": {},
   "outputs": [
    {
     "name": "stdout",
     "output_type": "stream",
     "text": [
      "Driving a vehicle\n",
      "Honk!\n",
      "Driving a vehicle\n",
      "Engine started\n",
      "Driving a vehicle\n",
      "Pedaling a bicycle\n",
      "Driving a vehicle\n",
      "Carrying passengers\n"
     ]
    }
   ],
   "source": [
    "# 1. **Single Inheritance:** A subclass inherits from a single base class.\n",
    "class Vehicle :\n",
    "    def drive(self):\n",
    "        print(\"Driving a vehicle\")\n",
    "\n",
    "class Car(Vehicle):\n",
    "    def honk(self):\n",
    "        print(\"Honk!\")\n",
    "\n",
    "car = Car()\n",
    "car.drive()  # Output: Driving a vehicle\n",
    "car.honk()   # Output: Honk!\n",
    "\n",
    "# 2. **Multiple Inheritance:** A subclass inherits from multiple base classes.\n",
    "class Engine:\n",
    "    def start(self):\n",
    "        print(\"Engine started\")\n",
    "\n",
    "class ElectricVehicle(Vehicle, Engine):\n",
    "    pass\n",
    "\n",
    "ev = ElectricVehicle()\n",
    "ev.drive()   # Output: Driving a vehicle\n",
    "ev.start()   # Output: Engine started\n",
    "\n",
    "# 3. **Multilevel Inheritance:** A class inherits from a base class, which in turn inherits from another base class.\n",
    "class Bicycle(Vehicle):\n",
    "    def pedal(self):\n",
    "        print(\"Pedaling a bicycle\")\n",
    "\n",
    "bike = Bicycle()\n",
    "bike.drive()  # Output: Driving a vehicle\n",
    "bike.pedal()  # Output: Pedaling a bicycle\n",
    "\n",
    "# 4. **Hierarchical Inheritance:** Multiple subclasses inherit from a single base class.\n",
    "\n",
    "class Bus(Vehicle):\n",
    "    def carry_passengers(self):\n",
    "        print(\"Carrying passengers\")\n",
    "\n",
    "bus = Bus()\n",
    "bus.drive()             # Output: Driving a vehicle\n",
    "bus.carry_passengers()  # Output: Carrying passengers"
   ]
  }
 ],
 "metadata": {
  "kernelspec": {
   "display_name": "Python 3 (ipykernel)",
   "language": "python",
   "name": "python3"
  },
  "language_info": {
   "codemirror_mode": {
    "name": "ipython",
    "version": 3
   },
   "file_extension": ".py",
   "mimetype": "text/x-python",
   "name": "python",
   "nbconvert_exporter": "python",
   "pygments_lexer": "ipython3",
   "version": "3.10.8"
  }
 },
 "nbformat": 4,
 "nbformat_minor": 5
}
