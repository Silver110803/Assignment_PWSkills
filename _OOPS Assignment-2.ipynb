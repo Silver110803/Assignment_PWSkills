{
 "cells": [
  {
   "cell_type": "markdown",
   "id": "b2c60894-b01c-48d1-afe5-03791f3cd8b1",
   "metadata": {},
   "source": [
    "Q1. What is Abstraction in OOps? Explain with an example."
   ]
  },
  {
   "cell_type": "markdown",
   "id": "d0ab1fff-e049-435a-b5ce-9a1829f02eb9",
   "metadata": {},
   "source": [
    "Abstraction in OOP refers to the concept of hiding complex implementation details and showing only the essential features of an object. It focuses on providing a simplified view of an object's functionality, making it easier to understand and use. Abstraction is achieved by defining interfaces, abstract classes, or base classes that outline the essential methods and properties, while the actual implementation is hidden from the user.\n"
   ]
  },
  {
   "cell_type": "code",
   "execution_count": 6,
   "id": "9b619b56-a463-4b21-9cfa-2cab43e547ab",
   "metadata": {},
   "outputs": [
    {
     "name": "stdout",
     "output_type": "stream",
     "text": [
      "78.5\n"
     ]
    }
   ],
   "source": [
    "from abc import ABC, abstractmethod\n",
    "\n",
    "class Shape(ABC):\n",
    "    @abstractmethod\n",
    "    def calculate_area(self):\n",
    "        pass\n",
    "\n",
    "class Circle(Shape):\n",
    "    def __init__(self, radius):\n",
    "        self.radius = radius\n",
    "    \n",
    "    def calculate_area(self):\n",
    "        return 3.14 * self.radius * self.radius\n",
    "\n",
    "class Rectangle(Shape):\n",
    "    def __init__(self, length, width):\n",
    "        self.length = length\n",
    "        self.width = width\n",
    "    \n",
    "    def calculate_area(self):\n",
    "        return self.length * self.width\n",
    "\n",
    "circle = Circle(5)\n",
    "print(circle.calculate_area())  # Output: 78.5"
   ]
  },
  {
   "cell_type": "markdown",
   "id": "2208520d-310b-465c-b6f9-94a27ad8d938",
   "metadata": {},
   "source": [
    "Q2. Differentiate between Abstraction and Encapsulation. Explain with an example."
   ]
  },
  {
   "cell_type": "markdown",
   "id": "66e47896-9662-4941-98db-f3a6c2e66bd2",
   "metadata": {},
   "source": [
    "**Abstraction:**\n",
    "Abstraction in Python involves presenting only the essential features of an object to the outside world while hiding the complex implementation details. It provides a high-level view of an object's behavior without exposing the intricacies of how that behavior is achieved.\n"
   ]
  },
  {
   "cell_type": "code",
   "execution_count": 8,
   "id": "aca5568f-535c-4dc0-9fa3-cfa787b407a4",
   "metadata": {},
   "outputs": [
    {
     "name": "stdout",
     "output_type": "stream",
     "text": [
      "Circle area: 78.5\n",
      "Rectangle area: 24\n"
     ]
    }
   ],
   "source": [
    "from abc import ABC, abstractmethod\n",
    "\n",
    "class Shape(ABC):\n",
    "    @abstractmethod\n",
    "    def calculate_area(self):\n",
    "        pass\n",
    "\n",
    "class Circle(Shape):\n",
    "    def __init__(self, radius):\n",
    "        self.radius = radius\n",
    "    \n",
    "    def calculate_area(self):\n",
    "        return 3.14 * self.radius * self.radius\n",
    "\n",
    "class Rectangle(Shape):\n",
    "    def __init__(self, length, width):\n",
    "        self.length = length\n",
    "        self.width = width\n",
    "    \n",
    "    def calculate_area(self):\n",
    "        return self.length * self.width\n",
    "\n",
    "circle = Circle(5)\n",
    "print(\"Circle area:\", circle.calculate_area())  # Output: Circle area: 78.5\n",
    "\n",
    "rectangle = Rectangle(4, 6)\n",
    "print(\"Rectangle area:\", rectangle.calculate_area())  # Output: Rectangle area: 24"
   ]
  },
  {
   "cell_type": "markdown",
   "id": "656a1cbf-ca85-4e2f-a520-1dc2db2add5b",
   "metadata": {},
   "source": [
    "**Encapsulation:**\n",
    "Encapsulation in Python involves bundling data (attributes) and the methods (functions) that operate on that data into a single unit (class). It also involves controlling access to the attributes, ensuring that they are accessed and modified through well-defined methods.\n"
   ]
  },
  {
   "cell_type": "code",
   "execution_count": 9,
   "id": "b1c10fc3-a6ab-4e9d-aea7-88907c45767e",
   "metadata": {},
   "outputs": [
    {
     "name": "stdout",
     "output_type": "stream",
     "text": [
      "Name: Alice\n",
      "Age: 30\n"
     ]
    },
    {
     "ename": "AttributeError",
     "evalue": "'Person' object has no attribute '__email'",
     "output_type": "error",
     "traceback": [
      "\u001b[0;31m---------------------------------------------------------------------------\u001b[0m",
      "\u001b[0;31mAttributeError\u001b[0m                            Traceback (most recent call last)",
      "Cell \u001b[0;32mIn[9], line 24\u001b[0m\n\u001b[1;32m     21\u001b[0m \u001b[38;5;28mprint\u001b[39m(\u001b[38;5;124m\"\u001b[39m\u001b[38;5;124mAge:\u001b[39m\u001b[38;5;124m\"\u001b[39m, person\u001b[38;5;241m.\u001b[39mget_age())    \u001b[38;5;66;03m# Output: Age: 30\u001b[39;00m\n\u001b[1;32m     23\u001b[0m person\u001b[38;5;241m.\u001b[39mset_email(\u001b[38;5;124m\"\u001b[39m\u001b[38;5;124mnew.email@example.com\u001b[39m\u001b[38;5;124m\"\u001b[39m)\n\u001b[0;32m---> 24\u001b[0m \u001b[38;5;28mprint\u001b[39m(\u001b[38;5;124m\"\u001b[39m\u001b[38;5;124mEmail:\u001b[39m\u001b[38;5;124m\"\u001b[39m, \u001b[43mperson\u001b[49m\u001b[38;5;241;43m.\u001b[39;49m\u001b[43m__email\u001b[49m)  \u001b[38;5;66;03m# Output: AttributeError (private attribute)\u001b[39;00m\n",
      "\u001b[0;31mAttributeError\u001b[0m: 'Person' object has no attribute '__email'"
     ]
    }
   ],
   "source": [
    "class Person:\n",
    "    def __init__(self, name, age, email):\n",
    "        self.__name = name\n",
    "        self.__age = age\n",
    "        self.__email = email\n",
    "    \n",
    "    def get_name(self):\n",
    "        return self.__name\n",
    "    \n",
    "    def get_age(self):\n",
    "        return self.__age\n",
    "    \n",
    "    def set_email(self, new_email):\n",
    "        if \"@\" in new_email:\n",
    "            self.__email = new_email\n",
    "        else:\n",
    "            print(\"Invalid email format\")\n",
    "\n",
    "person = Person(\"Alice\", 30, \"alice@example.com\")\n",
    "print(\"Name:\", person.get_name())  # Output: Name: Alice\n",
    "print(\"Age:\", person.get_age())    # Output: Age: 30\n",
    "\n",
    "person.set_email(\"new.email@example.com\")\n",
    "print(\"Email:\", person.__email)  # Output: AttributeError (private attribute)"
   ]
  },
  {
   "cell_type": "markdown",
   "id": "3f4f5958-477b-48a6-842b-4119e7b16864",
   "metadata": {},
   "source": [
    "Q3. What is abc module in python? Why is it used?"
   ]
  },
  {
   "cell_type": "markdown",
   "id": "14af554b-ff80-4f00-bad7-4226e293c263",
   "metadata": {},
   "source": [
    "The `abc` module in Python stands for \"Abstract Base Classes.\" It provides a way to create abstract classes and define abstract methods. An abstract class is a class that cannot be instantiated on its own and is meant to be subclassed by other classes. Abstract methods are methods defined in an abstract class that must be implemented by its subclasses.\n",
    "\n",
    "It is used to enforce a certain structure in subclasses, ensuring that they implement the necessary methods. It promotes code consistency and helps in creating a clear contract between the base class and its subclasses.\n"
   ]
  },
  {
   "cell_type": "markdown",
   "id": "4411b42d-4a1e-44ef-91fd-0445d9ec9211",
   "metadata": {},
   "source": [
    "Q4. How can we achieve data abstraction?"
   ]
  },
  {
   "cell_type": "markdown",
   "id": "6a372f0b-bc0c-44e3-9650-5bc3a941f0bb",
   "metadata": {},
   "source": [
    "Data abstraction can be achieved by defining abstract classes and methods. An abstract class is a class that cannot be instantiated and is meant to be subclassed. It may have abstract methods, which are methods without an implementation in the abstract class itself. Subclasses are required to provide implementations for these abstract methods.\n",
    "\n",
    "Using the `abc` module, you can define abstract base classes and abstract methods, ensuring that subclasses adhere to the specified structure while keeping the implementation details hidden.\n"
   ]
  },
  {
   "cell_type": "markdown",
   "id": "30c9162c-aaec-465f-af6d-2b8077695d46",
   "metadata": {},
   "source": [
    "Q5. Can we create an instance of an abstract class? Explain your answer."
   ]
  },
  {
   "cell_type": "markdown",
   "id": "065fc939-bd0b-4473-ac26-7f3bf9f7f87c",
   "metadata": {},
   "source": [
    "No, you cannot create an instance of an abstract class in Python. An abstract class is designed to be subclassed, and it typically contains one or more abstract methods that lack implementation in the abstract class itself. Since abstract methods don't have implementations, creating an instance of the abstract class wouldn't make sense.\n",
    "\n",
    "To use the functionality defined in an abstract class, you need to create a subclass that inherits from the abstract class and provides concrete implementations for the abstract methods. Only instances of the subclasses can be created and used."
   ]
  }
 ],
 "metadata": {
  "kernelspec": {
   "display_name": "Python 3 (ipykernel)",
   "language": "python",
   "name": "python3"
  },
  "language_info": {
   "codemirror_mode": {
    "name": "ipython",
    "version": 3
   },
   "file_extension": ".py",
   "mimetype": "text/x-python",
   "name": "python",
   "nbconvert_exporter": "python",
   "pygments_lexer": "ipython3",
   "version": "3.10.8"
  }
 },
 "nbformat": 4,
 "nbformat_minor": 5
}
