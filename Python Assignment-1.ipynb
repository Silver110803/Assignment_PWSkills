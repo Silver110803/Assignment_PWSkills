{
 "cells": [
  {
   "cell_type": "markdown",
   "id": "69307901-da77-4ce5-8fd7-a72a3bb33971",
   "metadata": {},
   "source": [
    "Q1. Which keyword is used to create a function? Create a function to return a list of odd numbers in the\n",
    "range of 1 to 25."
   ]
  },
  {
   "cell_type": "code",
   "execution_count": 3,
   "id": "86ac4742-23b7-47dd-b2d9-997ff5e5ab27",
   "metadata": {},
   "outputs": [
    {
     "name": "stdout",
     "output_type": "stream",
     "text": [
      "1\n",
      "3\n",
      "5\n",
      "7\n",
      "9\n",
      "11\n",
      "13\n",
      "15\n",
      "17\n",
      "19\n",
      "21\n",
      "23\n",
      "25\n"
     ]
    }
   ],
   "source": [
    "# def keyword is used to create a function and the syntax is def function_name(arguments):\n",
    "def odd_numbers(n):\n",
    "    for i in range(n):\n",
    "        if i%2 != 0:\n",
    "            print(i)\n",
    "odd_numbers(26)"
   ]
  },
  {
   "cell_type": "markdown",
   "id": "e7a3ede0-2853-4bdf-8c21-61c38e1a098d",
   "metadata": {},
   "source": [
    "Q2. Why *args and **kwargs is used in some functions? Create a function each for *args and **kwargs\n",
    "to demonstrate their use."
   ]
  },
  {
   "cell_type": "markdown",
   "id": "986701ef-e347-49f4-9a25-d73dd41f030d",
   "metadata": {},
   "source": [
    "*args and **kwargs are used to pass a variable number of arguments to a function.\n",
    "*args allows us to pass a variable number of non-keyword arguments (as a tuple), \n",
    "while **kwargs allows us to pass a variable number of keyword arguments (as a dictionary)."
   ]
  },
  {
   "cell_type": "code",
   "execution_count": 6,
   "id": "91444006-2c11-4c90-99ea-914a933ab48e",
   "metadata": {},
   "outputs": [
    {
     "name": "stdout",
     "output_type": "stream",
     "text": [
      "(1, 2, 3, 4)\n",
      "{'a': 10, 'b': 20, 'c': 30}\n"
     ]
    }
   ],
   "source": [
    "def function_with_args(*args):\n",
    "    print(args)\n",
    "\n",
    "def function_with_kwargs(**kwargs):\n",
    "    print(kwargs)\n",
    "        \n",
    "function_with_args(1, 2, 3, 4)\n",
    "function_with_kwargs(a=10, b=20, c=30)"
   ]
  },
  {
   "cell_type": "markdown",
   "id": "d5508bc4-cedd-4625-9245-efc6ad94619a",
   "metadata": {},
   "source": [
    "Q3. What is an iterator in python? Name the method used to initialise the iterator object and the method\n",
    "used for iteration. Use these methods to print the first five elements of the given list [2, 4, 6, 8, 10, 12, 14,\n",
    "16, 18, 20]."
   ]
  },
  {
   "cell_type": "markdown",
   "id": "bbbf1854-cd56-4c2b-9f06-0edd2f731ce5",
   "metadata": {},
   "source": [
    "An iterator in Python is an object that implements the methods `iter()` and `next()`, allowing us to iterate over a sequence of values.\n",
    "\n"
   ]
  },
  {
   "cell_type": "code",
   "execution_count": 7,
   "id": "3ba1bdb5-f103-4069-809b-ad225414a143",
   "metadata": {},
   "outputs": [
    {
     "name": "stdout",
     "output_type": "stream",
     "text": [
      "2\n",
      "4\n",
      "6\n",
      "8\n",
      "10\n"
     ]
    }
   ],
   "source": [
    "my_list = [2, 4, 6, 8, 10, 12, 14, 16, 18, 20]\n",
    "iterator = iter(my_list)\n",
    "\n",
    "for i in range(5):\n",
    "    print(next(iterator))"
   ]
  },
  {
   "cell_type": "markdown",
   "id": "9d3dadd8-d1af-4873-a349-fdcb89a5e142",
   "metadata": {},
   "source": [
    "Q4. What is a generator function in python? Why yield keyword is used? Give an example of a generator\n",
    "function."
   ]
  },
  {
   "cell_type": "markdown",
   "id": "5224e90b-2472-4a7e-8dc1-eab17da35d6f",
   "metadata": {},
   "source": [
    "A generator function in Python is a special type of function that generates a sequence of values lazily using the `yield` keyword. \n",
    "It allows us to create an iterator without creating a full list of values in memory.\n"
   ]
  },
  {
   "cell_type": "code",
   "execution_count": 11,
   "id": "424f47f4-8aac-46b9-9e35-177788b3f62d",
   "metadata": {},
   "outputs": [
    {
     "name": "stdout",
     "output_type": "stream",
     "text": [
      "0\n",
      "2\n",
      "4\n",
      "6\n",
      "8\n"
     ]
    }
   ],
   "source": [
    "def even_numbers(n):\n",
    "    for i in range(n):\n",
    "        if i % 2 == 0:\n",
    "            yield i\n",
    "\n",
    "evens = even_numbers(10)\n",
    "for num in evens:\n",
    "    print(num)"
   ]
  },
  {
   "cell_type": "markdown",
   "id": "9494161f-8319-433e-a99b-5ca4e9553be3",
   "metadata": {},
   "source": [
    "Q5. Create a generator function for prime numbers less than 1000. Use the next() method to print the\n",
    "first 20 prime numbers."
   ]
  },
  {
   "cell_type": "code",
   "execution_count": 12,
   "id": "3f166ef9-2dc3-47cd-a389-62a0485b72fe",
   "metadata": {},
   "outputs": [
    {
     "name": "stdout",
     "output_type": "stream",
     "text": [
      "2\n",
      "3\n",
      "5\n",
      "7\n",
      "11\n",
      "13\n",
      "17\n",
      "19\n",
      "23\n",
      "29\n",
      "31\n",
      "37\n",
      "41\n",
      "43\n",
      "47\n",
      "53\n",
      "59\n",
      "61\n",
      "67\n",
      "71\n"
     ]
    }
   ],
   "source": [
    "def is_prime(num):\n",
    "    if num <= 1:\n",
    "        return False\n",
    "    for i in range(2, num):\n",
    "        if num % i == 0:\n",
    "            return False\n",
    "    return True\n",
    "\n",
    "def prime_generator(limit):\n",
    "    num = 2\n",
    "    count = 0\n",
    "    while count < limit:\n",
    "        if is_prime(num):\n",
    "            yield num\n",
    "            count += 1\n",
    "        num += 1\n",
    "\n",
    "primes = prime_generator(20)\n",
    "for prime in primes:\n",
    "    print(prime)"
   ]
  },
  {
   "cell_type": "markdown",
   "id": "8fda1e4d-690c-4243-98a7-69a7a64d896d",
   "metadata": {},
   "source": [
    "Q6. Write a python program to print the first 10 Fibonacci numbers using a while loop."
   ]
  },
  {
   "cell_type": "code",
   "execution_count": 34,
   "id": "8c62c16f-c9e3-4e2d-8e3d-d1ec01da4196",
   "metadata": {},
   "outputs": [
    {
     "name": "stdout",
     "output_type": "stream",
     "text": [
      "0\n",
      "1\n",
      "1\n",
      "2\n",
      "3\n",
      "5\n",
      "8\n",
      "13\n",
      "21\n",
      "34\n"
     ]
    }
   ],
   "source": [
    "def fibonacci(n):\n",
    "    a=0\n",
    "    b=1\n",
    "    count = 0\n",
    "    while count<n:\n",
    "        print(a)\n",
    "        a, b = b, a+b\n",
    "        count += 1\n",
    "fibonacci(10)"
   ]
  },
  {
   "cell_type": "markdown",
   "id": "e37667d1-4ad7-4c0a-a6b6-4bc06b8c0d32",
   "metadata": {},
   "source": [
    "Q7. Write a List Comprehension to iterate through the given string: ‘pwskills’.\n",
    "Expected output: ['p', 'w', 's', 'k', 'i', 'l', 'l', 's']"
   ]
  },
  {
   "cell_type": "code",
   "execution_count": 35,
   "id": "eb81d58a-a4a3-4212-a31d-b7f0bdb01e4f",
   "metadata": {},
   "outputs": [
    {
     "name": "stdout",
     "output_type": "stream",
     "text": [
      "['p', 'w', 's', 'k', 'i', 'l', 'l', 's']\n"
     ]
    }
   ],
   "source": [
    "string = 'pwskills'\n",
    "result = [char for char in string]\n",
    "print(result)"
   ]
  },
  {
   "cell_type": "markdown",
   "id": "3c6dadf1-481a-4ad3-8e4f-669ce9adf558",
   "metadata": {},
   "source": [
    "Q8. Write a python program to check whether a given number is Palindrome or not using a while loop."
   ]
  },
  {
   "cell_type": "code",
   "execution_count": 39,
   "id": "aa6fd14b-c168-46b9-ab62-54ec2c2a146d",
   "metadata": {},
   "outputs": [
    {
     "name": "stdin",
     "output_type": "stream",
     "text": [
      "Enter a number:  1001\n"
     ]
    },
    {
     "name": "stdout",
     "output_type": "stream",
     "text": [
      "Palindrome\n"
     ]
    }
   ],
   "source": [
    "num = int(input(\"Enter a number: \"))\n",
    "original = num\n",
    "reverse = 0\n",
    "\n",
    "while num > 0:\n",
    "    digit = num % 10\n",
    "    reverse = reverse * 10 + digit\n",
    "    num //= 10\n",
    "\n",
    "if original == reverse:\n",
    "    print(\"Palindrome\")\n",
    "else:\n",
    "    print(\"Not Palindrome\")\n"
   ]
  },
  {
   "cell_type": "markdown",
   "id": "dfb964ab-632c-45ec-9830-4ad3f2bd4505",
   "metadata": {},
   "source": [
    "Q9. Write a code to print odd numbers from 1 to 100 using list comprehension.\n",
    "Note: Use a list comprehension to create a list from 1 to 100 and use another List comprehension to filter\n",
    "out odd numbers."
   ]
  },
  {
   "cell_type": "code",
   "execution_count": 38,
   "id": "929ec2c5-ff7a-4aa2-8a64-47fbd5a1eb81",
   "metadata": {},
   "outputs": [
    {
     "name": "stdout",
     "output_type": "stream",
     "text": [
      "[1, 3, 5, 7, 9, 11, 13, 15, 17, 19, 21, 23, 25, 27, 29, 31, 33, 35, 37, 39, 41, 43, 45, 47, 49, 51, 53, 55, 57, 59, 61, 63, 65, 67, 69, 71, 73, 75, 77, 79, 81, 83, 85, 87, 89, 91, 93, 95, 97, 99]\n"
     ]
    }
   ],
   "source": [
    "odd_numbers = [num for num in range(1, 101) if num % 2 != 0]\n",
    "print(odd_numbers)"
   ]
  }
 ],
 "metadata": {
  "kernelspec": {
   "display_name": "Python 3 (ipykernel)",
   "language": "python",
   "name": "python3"
  },
  "language_info": {
   "codemirror_mode": {
    "name": "ipython",
    "version": 3
   },
   "file_extension": ".py",
   "mimetype": "text/x-python",
   "name": "python",
   "nbconvert_exporter": "python",
   "pygments_lexer": "ipython3",
   "version": "3.10.8"
  }
 },
 "nbformat": 4,
 "nbformat_minor": 5
}
